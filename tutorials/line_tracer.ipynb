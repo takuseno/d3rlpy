{
 "cells": [
  {
   "cell_type": "markdown",
   "metadata": {},
   "source": [
    "Make up the original environment."
   ]
  },
  {
   "cell_type": "code",
   "execution_count": 1,
   "metadata": {},
   "outputs": [],
   "source": [
    "import numpy as np\n",
    "\n",
    "class SinEnv:\n",
    "    def __init__(self, episode_length=20):\n",
    "        self.reset()\n",
    "        self.step_size = 2 * np.pi / episode_length\n",
    "        self.episode_length = episode_length\n",
    "        \n",
    "    def step(self, action):\n",
    "        # update state\n",
    "        self.x += self.step_size\n",
    "        self.y += action[0]\n",
    "        self.t += 1\n",
    "        \n",
    "        # compute reward\n",
    "        reward = -((self.y - np.sin(self.x)) ** 2)\n",
    "        \n",
    "        done = self.t == self.episode_length\n",
    "        \n",
    "        return np.array([self.x, self.y], dtype=np.float32), reward, done, {}\n",
    "    \n",
    "    def reset(self):\n",
    "        self.x = -np.pi\n",
    "        self.y = np.random.uniform(low=-1.0, high=1.0)\n",
    "        self.t = 0\n",
    "        return np.array([self.x, self.y], dtype=np.float32)"
   ]
  },
  {
   "cell_type": "markdown",
   "metadata": {},
   "source": [
    "Generate dataset."
   ]
  },
  {
   "cell_type": "code",
   "execution_count": 2,
   "metadata": {},
   "outputs": [],
   "source": [
    "N_EPISODES = 1000\n",
    "EPISODE_LENGTH = 20\n",
    "\n",
    "observations = []\n",
    "actions = []\n",
    "rewards = []\n",
    "terminals = []\n",
    "\n",
    "# this process would be done in the real world in practice\n",
    "env = SinEnv(episode_length=EPISODE_LENGTH)\n",
    "for _ in range(N_EPISODES):\n",
    "    observation = env.reset()\n",
    "    reward = 0.0\n",
    "    done = False\n",
    "    \n",
    "    while not done:\n",
    "        # sample random action\n",
    "        action = [np.random.uniform(-1.0, 1.0)]\n",
    "        \n",
    "        # append to dataset\n",
    "        observations.append(observation)\n",
    "        actions.append(action)\n",
    "        rewards.append(reward)\n",
    "        terminals.append(0.0)\n",
    "        \n",
    "        observation, reward, done, _ = env.step(action)\n",
    "\n",
    "    # append last state to dataset\n",
    "    observations.append(observation)\n",
    "    actions.append([0.0])\n",
    "    rewards.append(reward)\n",
    "    terminals.append(1.0)\n",
    "    \n",
    "# convert list to ndarray\n",
    "observations = np.array(observations)\n",
    "actions = np.array(actions)\n",
    "rewards = np.array(rewards)\n",
    "terminals = np.array(terminals)"
   ]
  },
  {
   "cell_type": "markdown",
   "metadata": {},
   "source": [
    "Visualize dataset episode."
   ]
  },
  {
   "cell_type": "code",
   "execution_count": 4,
   "metadata": {},
   "outputs": [
    {
     "data": {
      "text/plain": [
       "[<matplotlib.lines.Line2D at 0x10e65f048>]"
      ]
     },
     "execution_count": 4,
     "metadata": {},
     "output_type": "execute_result"
    },
    {
     "data": {
      "image/png": "[encoded data removed]",
      "text/plain": [
       "<Figure size 432x288 with 1 Axes>"
      ]
     },
     "metadata": {
      "needs_background": "light"
     },
     "output_type": "display_data"
    }
   ],
   "source": [
    "import matplotlib.pyplot as plt\n",
    "\n",
    "# plot random trajectory\n",
    "plt.plot(observations[:20, 0], observations[:20, 1])\n",
    "\n",
    "# plot reference trajectory\n",
    "x = np.arange(100) * 2 * np.pi / 100.0 - np.pi\n",
    "y = np.sin(x)\n",
    "plt.plot(x, y)"
   ]
  },
  {
   "cell_type": "markdown",
   "metadata": {},
   "source": [
    "Setup data-driven deep reinforcement learning algorithm."
   ]
  },
  {
   "cell_type": "code",
   "execution_count": 5,
   "metadata": {},
   "outputs": [
    {
     "name": "stderr",
     "output_type": "stream",
     "text": [
      "  1%|▏         | 2/160 [00:00<00:11, 13.76it/s]"
     ]
    },
    {
     "name": "stdout",
     "output_type": "stream",
     "text": [
      "actor_learning_rate=0.001\n",
      "alpha_learning_rate=0.001\n",
      "alpha_threshold=10.0\n",
      "batch_size=100\n",
      "bootstrap=False\n",
      "critic_learning_rate=0.001\n",
      "eps=1e-08\n",
      "gamma=0.99\n",
      "initial_alpha=5.0\n",
      "initial_temperature=1.0\n",
      "n_action_samples=10\n",
      "n_critics=2\n",
      "q_func_factory=mean\n",
      "scaler=None\n",
      "tau=0.005\n",
      "temp_learning_rate=0.001\n",
      "update_actor_interval=1\n",
      "use_batch_norm=False\n",
      "use_gpu=None\n",
      "observation_shape=(2,)\n",
      "action_size=1\n"
     ]
    },
    {
     "name": "stderr",
     "output_type": "stream",
     "text": [
      "100%|██████████| 160/160 [00:10<00:00, 15.69it/s]\n",
      "  1%|▏         | 2/160 [00:00<00:09, 15.97it/s]"
     ]
    },
    {
     "name": "stdout",
     "output_type": "stream",
     "text": [
      "epoch=0 step=160 critic_loss=-55.220544\n",
      "epoch=0 step=160 actor_loss=4.520806\n",
      "epoch=0 step=160 temp_loss=1.323342\n",
      "epoch=0 step=160 temp=0.927833\n",
      "epoch=0 step=160 alpha_loss=81.929810\n",
      "epoch=0 step=160 alpha=4.629778\n",
      "epoch=0 step=160 environment=-2.729725\n",
      "epoch=0 step=160 advantage=-16.460317\n"
     ]
    },
    {
     "name": "stderr",
     "output_type": "stream",
     "text": [
      "100%|██████████| 160/160 [00:10<00:00, 15.29it/s]\n",
      "  1%|▏         | 2/160 [00:00<00:10, 15.46it/s]"
     ]
    },
    {
     "name": "stdout",
     "output_type": "stream",
     "text": [
      "epoch=1 step=320 critic_loss=-47.602399\n",
      "epoch=1 step=320 actor_loss=5.692252\n",
      "epoch=1 step=320 temp_loss=0.910432\n",
      "epoch=1 step=320 temp=0.813213\n",
      "epoch=1 step=320 alpha_loss=62.115672\n",
      "epoch=1 step=320 alpha=4.018552\n",
      "epoch=1 step=320 environment=-2.694889\n",
      "epoch=1 step=320 advantage=-27.755397\n"
     ]
    },
    {
     "name": "stderr",
     "output_type": "stream",
     "text": [
      "100%|██████████| 160/160 [00:10<00:00, 15.65it/s]\n",
      "  1%|▏         | 2/160 [00:00<00:10, 15.69it/s]"
     ]
    },
    {
     "name": "stdout",
     "output_type": "stream",
     "text": [
      "epoch=2 step=480 critic_loss=-33.199145\n",
      "epoch=2 step=480 actor_loss=6.533099\n",
      "epoch=2 step=480 temp_loss=0.706924\n",
      "epoch=2 step=480 temp=0.725117\n",
      "epoch=2 step=480 alpha_loss=48.758065\n",
      "epoch=2 step=480 alpha=3.552526\n",
      "epoch=2 step=480 environment=-1.488867\n",
      "epoch=2 step=480 advantage=-32.786979\n"
     ]
    },
    {
     "name": "stderr",
     "output_type": "stream",
     "text": [
      "100%|██████████| 160/160 [00:10<00:00, 15.47it/s]\n",
      "  1%|▏         | 2/160 [00:00<00:09, 16.30it/s]"
     ]
    },
    {
     "name": "stdout",
     "output_type": "stream",
     "text": [
      "epoch=3 step=640 critic_loss=-23.292250\n",
      "epoch=3 step=640 actor_loss=7.109402\n",
      "epoch=3 step=640 temp_loss=0.563224\n",
      "epoch=3 step=640 temp=0.653125\n",
      "epoch=3 step=640 alpha_loss=39.793605\n",
      "epoch=3 step=640 alpha=3.180002\n",
      "epoch=3 step=640 environment=-1.472099\n",
      "epoch=3 step=640 advantage=-39.490329\n"
     ]
    },
    {
     "name": "stderr",
     "output_type": "stream",
     "text": [
      "100%|██████████| 160/160 [00:10<00:00, 15.50it/s]\n",
      "  1%|▏         | 2/160 [00:00<00:10, 15.50it/s]"
     ]
    },
    {
     "name": "stdout",
     "output_type": "stream",
     "text": [
      "epoch=4 step=800 critic_loss=-16.637987\n",
      "epoch=4 step=800 actor_loss=7.492128\n",
      "epoch=4 step=800 temp_loss=0.471153\n",
      "epoch=4 step=800 temp=0.594442\n",
      "epoch=4 step=800 alpha_loss=33.582490\n",
      "epoch=4 step=800 alpha=2.869059\n",
      "epoch=4 step=800 environment=-1.238932\n",
      "epoch=4 step=800 advantage=-44.316655\n"
     ]
    },
    {
     "name": "stderr",
     "output_type": "stream",
     "text": [
      "100%|██████████| 160/160 [00:10<00:00, 14.83it/s]\n",
      "  1%|▏         | 2/160 [00:00<00:10, 15.67it/s]"
     ]
    },
    {
     "name": "stdout",
     "output_type": "stream",
     "text": [
      "epoch=5 step=960 critic_loss=-13.546756\n",
      "epoch=5 step=960 actor_loss=7.672903\n",
      "epoch=5 step=960 temp_loss=0.392997\n",
      "epoch=5 step=960 temp=0.544706\n",
      "epoch=5 step=960 alpha_loss=29.001915\n",
      "epoch=5 step=960 alpha=2.609078\n",
      "epoch=5 step=960 environment=-1.913881\n",
      "epoch=5 step=960 advantage=-43.790341\n"
     ]
    },
    {
     "name": "stderr",
     "output_type": "stream",
     "text": [
      "100%|██████████| 160/160 [00:10<00:00, 14.93it/s]\n",
      "  1%|▏         | 2/160 [00:00<00:10, 15.44it/s]"
     ]
    },
    {
     "name": "stdout",
     "output_type": "stream",
     "text": [
      "epoch=6 step=1120 critic_loss=-11.288606\n",
      "epoch=6 step=1120 actor_loss=7.849886\n",
      "epoch=6 step=1120 temp_loss=0.338124\n",
      "epoch=6 step=1120 temp=0.501722\n",
      "epoch=6 step=1120 alpha_loss=25.673175\n",
      "epoch=6 step=1120 alpha=2.379202\n",
      "epoch=6 step=1120 environment=-0.895442\n",
      "epoch=6 step=1120 advantage=-43.157535\n"
     ]
    },
    {
     "name": "stderr",
     "output_type": "stream",
     "text": [
      "100%|██████████| 160/160 [00:10<00:00, 14.97it/s]\n",
      "  1%|▏         | 2/160 [00:00<00:09, 16.22it/s]"
     ]
    },
    {
     "name": "stdout",
     "output_type": "stream",
     "text": [
      "epoch=7 step=1280 critic_loss=-10.369265\n",
      "epoch=7 step=1280 actor_loss=8.003370\n",
      "epoch=7 step=1280 temp_loss=0.286628\n",
      "epoch=7 step=1280 temp=0.464183\n",
      "epoch=7 step=1280 alpha_loss=22.931230\n",
      "epoch=7 step=1280 alpha=2.177758\n",
      "epoch=7 step=1280 environment=-1.807414\n",
      "epoch=7 step=1280 advantage=-47.898952\n"
     ]
    },
    {
     "name": "stderr",
     "output_type": "stream",
     "text": [
      "100%|██████████| 160/160 [00:10<00:00, 15.31it/s]\n",
      "  1%|▏         | 2/160 [00:00<00:11, 13.77it/s]"
     ]
    },
    {
     "name": "stdout",
     "output_type": "stream",
     "text": [
      "epoch=8 step=1440 critic_loss=-9.653453\n",
      "epoch=8 step=1440 actor_loss=8.040083\n",
      "epoch=8 step=1440 temp_loss=0.252478\n",
      "epoch=8 step=1440 temp=0.431968\n",
      "epoch=8 step=1440 alpha_loss=20.679711\n",
      "epoch=8 step=1440 alpha=1.997895\n",
      "epoch=8 step=1440 environment=-1.396702\n",
      "epoch=8 step=1440 advantage=-47.419231\n"
     ]
    },
    {
     "name": "stderr",
     "output_type": "stream",
     "text": [
      "100%|██████████| 160/160 [00:10<00:00, 14.98it/s]\n"
     ]
    },
    {
     "name": "stdout",
     "output_type": "stream",
     "text": [
      "epoch=9 step=1600 critic_loss=-8.958304\n",
      "epoch=9 step=1600 actor_loss=8.105654\n",
      "epoch=9 step=1600 temp_loss=0.216535\n",
      "epoch=9 step=1600 temp=0.403329\n",
      "epoch=9 step=1600 alpha_loss=18.959006\n",
      "epoch=9 step=1600 alpha=1.836348\n",
      "epoch=9 step=1600 environment=-0.568552\n",
      "epoch=9 step=1600 advantage=-48.046190\n"
     ]
    }
   ],
   "source": [
    "from d3rlpy.dataset import MDPDataset\n",
    "from d3rlpy.algos import CQL\n",
    "from d3rlpy.metrics.scorer import evaluate_on_environment\n",
    "from d3rlpy.metrics.scorer import discounted_sum_of_advantage_scorer\n",
    "from sklearn.model_selection import train_test_split\n",
    "\n",
    "# setup dataset\n",
    "dataset = MDPDataset(observations, actions, rewards, terminals)\n",
    "\n",
    "# setup algorithm\n",
    "cql = CQL()\n",
    "\n",
    "train_episodes, test_episodes = train_test_split(dataset, test_size=0.2)\n",
    "\n",
    "# train\n",
    "cql.fit(train_episodes,\n",
    "        eval_episodes=test_episodes,\n",
    "        n_epochs=10,\n",
    "        scorers={\n",
    "            'environment': evaluate_on_environment(env),\n",
    "            'advantage': discounted_sum_of_advantage_scorer\n",
    "        })"
   ]
  },
  {
   "cell_type": "markdown",
   "metadata": {},
   "source": [
    "Visualize trajectories."
   ]
  },
  {
   "cell_type": "code",
   "execution_count": 6,
   "metadata": {},
   "outputs": [
    {
     "data": {
      "image/png": "[encoded data removed]",
      "text/plain": [
       "<Figure size 432x288 with 1 Axes>"
      ]
     },
     "metadata": {
      "needs_background": "light"
     },
     "output_type": "display_data"
    }
   ],
   "source": [
    "def visualize(algo, env):\n",
    "    observation = env.reset()\n",
    "    observations = [observation]\n",
    "    while True:\n",
    "        action = algo.predict([observation])[0]\n",
    "        observation, _, done, _ = env.step(action)\n",
    "        observations.append(observation)\n",
    "        if done:\n",
    "            break\n",
    "    \n",
    "    observations = np.array(observations)\n",
    "    \n",
    "    # plot trajectory\n",
    "    plt.plot(observations[:, 0], observations[:, 1])\n",
    "    \n",
    "    # plot sin curve\n",
    "    x = np.arange(100) * 2 * np.pi / 100.0 - np.pi\n",
    "    y = np.sin(x)\n",
    "    plt.plot(x, y)\n",
    "    \n",
    "visualize(cql, env)"
   ]
  },
  {
   "cell_type": "code",
   "execution_count": null,
   "metadata": {},
   "outputs": [],
   "source": []
  }
 ],
 "metadata": {
  "kernelspec": {
   "display_name": "Python 3",
   "language": "python",
   "name": "python3"
  },
  "language_info": {
   "codemirror_mode": {
    "name": "ipython",
    "version": 3
   },
   "file_extension": ".py",
   "mimetype": "text/x-python",
   "name": "python",
   "nbconvert_exporter": "python",
   "pygments_lexer": "ipython3",
   "version": "3.6.1"
  }
 },
 "nbformat": 4,
 "nbformat_minor": 4
}
